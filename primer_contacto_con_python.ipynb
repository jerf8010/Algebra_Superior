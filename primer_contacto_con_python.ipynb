{
  "nbformat": 4,
  "nbformat_minor": 0,
  "metadata": {
    "colab": {
      "name": "Untitled14.ipynb",
      "provenance": []
    },
    "kernelspec": {
      "name": "python3",
      "display_name": "Python 3"
    },
    "language_info": {
      "name": "python"
    }
  },
  "cells": [
    {
      "cell_type": "code",
      "metadata": {
        "colab": {
          "base_uri": "https://localhost:8080/"
        },
        "id": "rwX8BEZZetbc",
        "outputId": "3c7c71da-3f8d-4fb1-b827-dd9b7f006f51"
      },
      "source": [
        "print('Hola Alumnos')"
      ],
      "execution_count": 1,
      "outputs": [
        {
          "output_type": "stream",
          "text": [
            "Hola Alumnos\n"
          ],
          "name": "stdout"
        }
      ]
    },
    {
      "cell_type": "markdown",
      "metadata": {
        "id": "9MOWs4joghMU"
      },
      "source": [
        "Esta es nuestra primera clase de programación wiiiiiiiii!!!!!!!"
      ]
    },
    {
      "cell_type": "code",
      "metadata": {
        "id": "G22_EaGugwa-"
      },
      "source": [
        "# Soy un comentario: Y sirvó para 'narrar' las instrucciones que voy a ejecutar"
      ],
      "execution_count": 4,
      "outputs": []
    },
    {
      "cell_type": "code",
      "metadata": {
        "colab": {
          "base_uri": "https://localhost:8080/"
        },
        "id": "jkRabcVAhZcI",
        "outputId": "00c25339-81c1-405c-aeca-329cef94d3f7"
      },
      "source": [
        "print('soy del meritito estado de Guerrero y \\n me gusta la playa')"
      ],
      "execution_count": 6,
      "outputs": [
        {
          "output_type": "stream",
          "text": [
            "soy del meritito estado de Guerrero y \n",
            " me gusta la playa\n"
          ],
          "name": "stdout"
        }
      ]
    },
    {
      "cell_type": "code",
      "metadata": {
        "colab": {
          "base_uri": "https://localhost:8080/"
        },
        "id": "BYRbi6-1hyEk",
        "outputId": "14d1436b-3e34-4743-bcc9-e43dabc61af0"
      },
      "source": [
        "print('''soy del meritito estado de Guerrero y \n",
        "    me gusta la playa''')"
      ],
      "execution_count": 7,
      "outputs": [
        {
          "output_type": "stream",
          "text": [
            "soy del meritito estado de Guerrero y \n",
            "    me gusta la playa\n"
          ],
          "name": "stdout"
        }
      ]
    },
    {
      "cell_type": "code",
      "metadata": {
        "colab": {
          "base_uri": "https://localhost:8080/"
        },
        "id": "8c6UH7S9iEa7",
        "outputId": "8beff1b5-112d-4a94-face-5be191ba768a"
      },
      "source": [
        "nombre = input( print('¿Cuál es tu nombre?') )"
      ],
      "execution_count": 8,
      "outputs": [
        {
          "output_type": "stream",
          "text": [
            "¿Cuál es tu nombre?\n",
            "Emanuel\n"
          ],
          "name": "stdout"
        }
      ]
    },
    {
      "cell_type": "code",
      "metadata": {
        "colab": {
          "base_uri": "https://localhost:8080/"
        },
        "id": "JQBSD6uGijTx",
        "outputId": "ab30b2ea-d10d-4b34-dde3-0c3e71b4dc91"
      },
      "source": [
        "print( nombre )"
      ],
      "execution_count": 9,
      "outputs": [
        {
          "output_type": "stream",
          "text": [
            "Emanuel\n"
          ],
          "name": "stdout"
        }
      ]
    },
    {
      "cell_type": "code",
      "metadata": {
        "colab": {
          "base_uri": "https://localhost:8080/"
        },
        "id": "zvPJwfNnistc",
        "outputId": "78e75640-7be1-4fd1-f801-d6b7b11ea76c"
      },
      "source": [
        "print( 'nombre')"
      ],
      "execution_count": 10,
      "outputs": [
        {
          "output_type": "stream",
          "text": [
            "nombre\n"
          ],
          "name": "stdout"
        }
      ]
    },
    {
      "cell_type": "code",
      "metadata": {
        "colab": {
          "base_uri": "https://localhost:8080/"
        },
        "id": "OPSS7MN2ixy_",
        "outputId": "6009b105-2aa9-4cbb-d01e-bc1c3db5cc47"
      },
      "source": [
        "x = 3\n",
        "print(type(x))"
      ],
      "execution_count": 11,
      "outputs": [
        {
          "output_type": "stream",
          "text": [
            "<class 'int'>\n"
          ],
          "name": "stdout"
        }
      ]
    },
    {
      "cell_type": "code",
      "metadata": {
        "colab": {
          "base_uri": "https://localhost:8080/"
        },
        "id": "oC8Nb4QVjBaW",
        "outputId": "758d4d13-cd88-4ccb-aa73-5d5a1b57a277"
      },
      "source": [
        "x = 3.0\n",
        "print(type(x))"
      ],
      "execution_count": 12,
      "outputs": [
        {
          "output_type": "stream",
          "text": [
            "<class 'float'>\n"
          ],
          "name": "stdout"
        }
      ]
    },
    {
      "cell_type": "code",
      "metadata": {
        "colab": {
          "base_uri": "https://localhost:8080/"
        },
        "id": "qTRpjoD3jPBu",
        "outputId": "a4aa1fa8-61f9-4c02-f26b-63057971d255"
      },
      "source": [
        "nombre = 'Susanita'\n",
        "print(type(nombre))"
      ],
      "execution_count": 19,
      "outputs": [
        {
          "output_type": "stream",
          "text": [
            "<class 'str'>\n"
          ],
          "name": "stdout"
        }
      ]
    },
    {
      "cell_type": "code",
      "metadata": {
        "colab": {
          "base_uri": "https://localhost:8080/"
        },
        "id": "7j-jOOxxjZRc",
        "outputId": "5740585a-8f79-4b15-e9ac-f6274d0bf1a2"
      },
      "source": [
        "x = False\n",
        "print( type(x))"
      ],
      "execution_count": 18,
      "outputs": [
        {
          "output_type": "stream",
          "text": [
            "<class 'bool'>\n"
          ],
          "name": "stdout"
        }
      ]
    },
    {
      "cell_type": "code",
      "metadata": {
        "colab": {
          "base_uri": "https://localhost:8080/"
        },
        "id": "3jqC73ESkCsM",
        "outputId": "ada1dcf3-b8f2-49ad-b6a6-a3e39c7986db"
      },
      "source": [
        "x = 3\n",
        "y = 2\n",
        "\n",
        "z = x +  y\n",
        "print(z)"
      ],
      "execution_count": 30,
      "outputs": [
        {
          "output_type": "stream",
          "text": [
            "5\n"
          ],
          "name": "stdout"
        }
      ]
    },
    {
      "cell_type": "code",
      "metadata": {
        "colab": {
          "base_uri": "https://localhost:8080/"
        },
        "id": "RqnPagdfk9NY",
        "outputId": "64e94ad5-1a68-491a-bacb-6a4c94a8c8e8"
      },
      "source": [
        "print( x * y)"
      ],
      "execution_count": 31,
      "outputs": [
        {
          "output_type": "stream",
          "text": [
            "6\n"
          ],
          "name": "stdout"
        }
      ]
    },
    {
      "cell_type": "code",
      "metadata": {
        "colab": {
          "base_uri": "https://localhost:8080/"
        },
        "id": "rcqZPrdklXt9",
        "outputId": "0ac8ef03-ca86-4a19-defb-749c9ab2950c"
      },
      "source": [
        "print( x -y )"
      ],
      "execution_count": 32,
      "outputs": [
        {
          "output_type": "stream",
          "text": [
            "1\n"
          ],
          "name": "stdout"
        }
      ]
    },
    {
      "cell_type": "code",
      "metadata": {
        "colab": {
          "base_uri": "https://localhost:8080/"
        },
        "id": "rr88Z1J8lZpC",
        "outputId": "485e35cd-36da-49c0-d86b-4cea7ed51e0a"
      },
      "source": [
        "print( x / y )"
      ],
      "execution_count": 33,
      "outputs": [
        {
          "output_type": "stream",
          "text": [
            "1.5\n"
          ],
          "name": "stdout"
        }
      ]
    },
    {
      "cell_type": "code",
      "metadata": {
        "colab": {
          "base_uri": "https://localhost:8080/"
        },
        "id": "f5ScuVc2lcL1",
        "outputId": "189b07bc-75ea-4763-c794-5e200606540c"
      },
      "source": [
        "print( x // y)"
      ],
      "execution_count": 34,
      "outputs": [
        {
          "output_type": "stream",
          "text": [
            "1\n"
          ],
          "name": "stdout"
        }
      ]
    },
    {
      "cell_type": "code",
      "metadata": {
        "colab": {
          "base_uri": "https://localhost:8080/"
        },
        "id": "DkA1sBlvlmz-",
        "outputId": "009774f4-539a-483a-f9b8-6d0e68d763c5"
      },
      "source": [
        "print( x % y )"
      ],
      "execution_count": 35,
      "outputs": [
        {
          "output_type": "stream",
          "text": [
            "1\n"
          ],
          "name": "stdout"
        }
      ]
    }
  ]
}