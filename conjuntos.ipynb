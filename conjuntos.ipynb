{
  "nbformat": 4,
  "nbformat_minor": 0,
  "metadata": {
    "colab": {
      "name": "Untitled21.ipynb",
      "provenance": [],
      "collapsed_sections": []
    },
    "kernelspec": {
      "name": "python3",
      "display_name": "Python 3"
    },
    "language_info": {
      "name": "python"
    }
  },
  "cells": [
    {
      "cell_type": "code",
      "metadata": {
        "colab": {
          "base_uri": "https://localhost:8080/"
        },
        "id": "Crth_I6g3Mxs",
        "outputId": "18dac6ea-e5de-4784-a120-83ba247efa41"
      },
      "source": [
        "for i in range(0, 10, 1):\n",
        "  print(i)"
      ],
      "execution_count": 3,
      "outputs": [
        {
          "output_type": "stream",
          "name": "stdout",
          "text": [
            "0\n",
            "1\n",
            "2\n",
            "3\n",
            "4\n",
            "5\n",
            "6\n",
            "7\n",
            "8\n",
            "9\n"
          ]
        }
      ]
    },
    {
      "cell_type": "code",
      "metadata": {
        "colab": {
          "base_uri": "https://localhost:8080/"
        },
        "id": "7lBPu7n36Zb2",
        "outputId": "5a052bbe-be87-45d4-a016-d7e9971878eb"
      },
      "source": [
        "for i in range(10):\n",
        "  print(i)"
      ],
      "execution_count": 4,
      "outputs": [
        {
          "output_type": "stream",
          "name": "stdout",
          "text": [
            "0\n",
            "1\n",
            "2\n",
            "3\n",
            "4\n",
            "5\n",
            "6\n",
            "7\n",
            "8\n",
            "9\n"
          ]
        }
      ]
    },
    {
      "cell_type": "code",
      "metadata": {
        "colab": {
          "base_uri": "https://localhost:8080/"
        },
        "id": "4T6-MAue6mtY",
        "outputId": "5bea4951-933e-4fce-c102-a6ea9be38162"
      },
      "source": [
        "for i in range(3, 10):\n",
        "  print(i)"
      ],
      "execution_count": 5,
      "outputs": [
        {
          "output_type": "stream",
          "name": "stdout",
          "text": [
            "3\n",
            "4\n",
            "5\n",
            "6\n",
            "7\n",
            "8\n",
            "9\n"
          ]
        }
      ]
    },
    {
      "cell_type": "code",
      "metadata": {
        "colab": {
          "base_uri": "https://localhost:8080/"
        },
        "id": "7J5sBl4j6tmX",
        "outputId": "38471147-5e57-477c-cce7-4629d3fbf246"
      },
      "source": [
        "for i in range(0,10,2):\n",
        "  print(i)"
      ],
      "execution_count": 8,
      "outputs": [
        {
          "output_type": "stream",
          "name": "stdout",
          "text": [
            "0\n",
            "2\n",
            "4\n",
            "6\n",
            "8\n"
          ]
        }
      ]
    },
    {
      "cell_type": "code",
      "metadata": {
        "colab": {
          "base_uri": "https://localhost:8080/"
        },
        "id": "kHxoVXBP7DdY",
        "outputId": "55765e33-9e56-40c1-f76d-34d380569639"
      },
      "source": [
        "for i in range(0, 11, 1):\n",
        "  print(i)\n",
        "  if i ==5:\n",
        "    break;"
      ],
      "execution_count": 9,
      "outputs": [
        {
          "output_type": "stream",
          "name": "stdout",
          "text": [
            "0\n",
            "1\n",
            "2\n",
            "3\n",
            "4\n",
            "5\n"
          ]
        }
      ]
    },
    {
      "cell_type": "code",
      "metadata": {
        "colab": {
          "base_uri": "https://localhost:8080/"
        },
        "id": "ynrBeX5t7ioQ",
        "outputId": "2dfc910a-0d69-4ce4-a3c4-3030681c229c"
      },
      "source": [
        "for i in [0, 1, 2, 3, 5, 6, 7, 8, 9, 10]:\n",
        "  print(i)"
      ],
      "execution_count": 11,
      "outputs": [
        {
          "output_type": "stream",
          "name": "stdout",
          "text": [
            "0\n",
            "1\n",
            "2\n",
            "3\n",
            "5\n",
            "6\n",
            "7\n",
            "8\n",
            "9\n",
            "10\n"
          ]
        }
      ]
    },
    {
      "cell_type": "code",
      "metadata": {
        "id": "pJeCdikbJduX"
      },
      "source": [
        ""
      ],
      "execution_count": null,
      "outputs": []
    },
    {
      "cell_type": "code",
      "metadata": {
        "colab": {
          "base_uri": "https://localhost:8080/"
        },
        "id": "ie7Cq1_67_w3",
        "outputId": "ce8e7ff9-25fd-4b9d-ffa3-1b6726e22542"
      },
      "source": [
        "x = 0\n",
        "while x != 10:\n",
        "  print(x)\n",
        "  x += 1\n",
        "  if x == 5:\n",
        "    break;\n",
        "\n"
      ],
      "execution_count": 15,
      "outputs": [
        {
          "output_type": "stream",
          "name": "stdout",
          "text": [
            "0\n",
            "1\n",
            "2\n",
            "3\n",
            "4\n"
          ]
        }
      ]
    },
    {
      "cell_type": "code",
      "metadata": {
        "id": "QrHMU69uH_VG"
      },
      "source": [
        "A = {1, 2, 3}\n",
        "B = {3, 4, 5}"
      ],
      "execution_count": 16,
      "outputs": []
    },
    {
      "cell_type": "code",
      "metadata": {
        "colab": {
          "base_uri": "https://localhost:8080/"
        },
        "id": "ZnJrTqCMIhA-",
        "outputId": "07d27f69-a32a-4434-e783-7476405c2126"
      },
      "source": [
        "print(type(A))"
      ],
      "execution_count": 17,
      "outputs": [
        {
          "output_type": "stream",
          "name": "stdout",
          "text": [
            "<class 'set'>\n"
          ]
        }
      ]
    },
    {
      "cell_type": "code",
      "metadata": {
        "colab": {
          "base_uri": "https://localhost:8080/"
        },
        "id": "sBo7aPsSImBK",
        "outputId": "1445bb82-f420-429e-f8b1-cdfda1b220b5"
      },
      "source": [
        "A.intersection(B)"
      ],
      "execution_count": 18,
      "outputs": [
        {
          "output_type": "execute_result",
          "data": {
            "text/plain": [
              "{3}"
            ]
          },
          "metadata": {},
          "execution_count": 18
        }
      ]
    },
    {
      "cell_type": "code",
      "metadata": {
        "colab": {
          "base_uri": "https://localhost:8080/"
        },
        "id": "4Y9zb0lWI6k_",
        "outputId": "65ef67f3-b725-4207-c5dc-8f6b49e161ac"
      },
      "source": [
        "A & B"
      ],
      "execution_count": 19,
      "outputs": [
        {
          "output_type": "execute_result",
          "data": {
            "text/plain": [
              "{3}"
            ]
          },
          "metadata": {},
          "execution_count": 19
        }
      ]
    },
    {
      "cell_type": "code",
      "metadata": {
        "colab": {
          "base_uri": "https://localhost:8080/"
        },
        "id": "RJ6sIQ5dJAFR",
        "outputId": "85d16a6e-bc74-4429-e339-dc7d70b922f9"
      },
      "source": [
        "A.union(B)"
      ],
      "execution_count": 20,
      "outputs": [
        {
          "output_type": "execute_result",
          "data": {
            "text/plain": [
              "{1, 2, 3, 4, 5}"
            ]
          },
          "metadata": {},
          "execution_count": 20
        }
      ]
    },
    {
      "cell_type": "code",
      "metadata": {
        "colab": {
          "base_uri": "https://localhost:8080/"
        },
        "id": "SR76hSemJgWb",
        "outputId": "ddaa82e7-f0a0-4f28-80f6-8c8ecd641d9e"
      },
      "source": [
        "A | B"
      ],
      "execution_count": 21,
      "outputs": [
        {
          "output_type": "execute_result",
          "data": {
            "text/plain": [
              "{1, 2, 3, 4, 5}"
            ]
          },
          "metadata": {},
          "execution_count": 21
        }
      ]
    },
    {
      "cell_type": "code",
      "metadata": {
        "colab": {
          "base_uri": "https://localhost:8080/"
        },
        "id": "qNaOubTTJoWL",
        "outputId": "7eb8454d-0fd9-446b-e179-2c08d15957a2"
      },
      "source": [
        "A - B"
      ],
      "execution_count": 22,
      "outputs": [
        {
          "output_type": "execute_result",
          "data": {
            "text/plain": [
              "{1, 2}"
            ]
          },
          "metadata": {},
          "execution_count": 22
        }
      ]
    },
    {
      "cell_type": "code",
      "metadata": {
        "colab": {
          "base_uri": "https://localhost:8080/"
        },
        "id": "9X3XL3WRJw5T",
        "outputId": "7691f24d-8639-4b47-a81a-d8d81dd9b1c8"
      },
      "source": [
        "B - A"
      ],
      "execution_count": 23,
      "outputs": [
        {
          "output_type": "execute_result",
          "data": {
            "text/plain": [
              "{4, 5}"
            ]
          },
          "metadata": {},
          "execution_count": 23
        }
      ]
    },
    {
      "cell_type": "code",
      "metadata": {
        "colab": {
          "base_uri": "https://localhost:8080/"
        },
        "id": "n6I1HoD-J3s9",
        "outputId": "9f76bad8-9f91-43f5-a34d-625a0988c819"
      },
      "source": [
        "A.issubset(B)"
      ],
      "execution_count": 24,
      "outputs": [
        {
          "output_type": "execute_result",
          "data": {
            "text/plain": [
              "False"
            ]
          },
          "metadata": {},
          "execution_count": 24
        }
      ]
    },
    {
      "cell_type": "code",
      "metadata": {
        "colab": {
          "base_uri": "https://localhost:8080/"
        },
        "id": "oa9VmtDyKCv3",
        "outputId": "3432913d-2e4c-4ce9-9e40-77ff7f5b2968"
      },
      "source": [
        "A = {1,2,3}\n",
        "B = {0,1,2,3,4}\n",
        "A.issubset(B)"
      ],
      "execution_count": 25,
      "outputs": [
        {
          "output_type": "execute_result",
          "data": {
            "text/plain": [
              "True"
            ]
          },
          "metadata": {},
          "execution_count": 25
        }
      ]
    },
    {
      "cell_type": "code",
      "metadata": {
        "id": "YoHg50k0KRlw"
      },
      "source": [
        ""
      ],
      "execution_count": null,
      "outputs": []
    },
    {
      "cell_type": "code",
      "metadata": {
        "colab": {
          "base_uri": "https://localhost:8080/"
        },
        "id": "m5dlmxXPKNjP",
        "outputId": "f4ddd9d2-55e5-4ce2-a193-4ab4036cb1bf"
      },
      "source": [
        "A == B"
      ],
      "execution_count": 26,
      "outputs": [
        {
          "output_type": "execute_result",
          "data": {
            "text/plain": [
              "False"
            ]
          },
          "metadata": {},
          "execution_count": 26
        }
      ]
    },
    {
      "cell_type": "code",
      "metadata": {
        "id": "gvfzXiEzKSPk"
      },
      "source": [
        "A = {1,2,3,4}\n",
        "B = {4,3,1,2,2}"
      ],
      "execution_count": 28,
      "outputs": []
    },
    {
      "cell_type": "code",
      "metadata": {
        "colab": {
          "base_uri": "https://localhost:8080/"
        },
        "id": "FlACUY4hKXFM",
        "outputId": "2f77f5be-a6b0-47e7-c69f-fd02363ab186"
      },
      "source": [
        "A == B"
      ],
      "execution_count": 29,
      "outputs": [
        {
          "output_type": "execute_result",
          "data": {
            "text/plain": [
              "True"
            ]
          },
          "metadata": {},
          "execution_count": 29
        }
      ]
    },
    {
      "cell_type": "code",
      "metadata": {
        "colab": {
          "base_uri": "https://localhost:8080/"
        },
        "id": "s1DaBkG3LN0T",
        "outputId": "d5187820-4741-42a8-bbfd-852a53a57567"
      },
      "source": [
        "A.issubset(B)"
      ],
      "execution_count": 32,
      "outputs": [
        {
          "output_type": "execute_result",
          "data": {
            "text/plain": [
              "True"
            ]
          },
          "metadata": {},
          "execution_count": 32
        }
      ]
    },
    {
      "cell_type": "code",
      "metadata": {
        "colab": {
          "base_uri": "https://localhost:8080/"
        },
        "id": "tZj27CfLLQZ2",
        "outputId": "54d29dba-a429-496d-ed98-e6ba205df894"
      },
      "source": [
        "B.issubset(A)"
      ],
      "execution_count": 33,
      "outputs": [
        {
          "output_type": "execute_result",
          "data": {
            "text/plain": [
              "True"
            ]
          },
          "metadata": {},
          "execution_count": 33
        }
      ]
    },
    {
      "cell_type": "code",
      "metadata": {
        "colab": {
          "base_uri": "https://localhost:8080/"
        },
        "id": "A20o7QloKiAp",
        "outputId": "b33e7aa8-5e59-4842-a4c1-a53a9d0a3238"
      },
      "source": [
        "vacio = set()\n",
        "vacio"
      ],
      "execution_count": 30,
      "outputs": [
        {
          "output_type": "execute_result",
          "data": {
            "text/plain": [
              "set()"
            ]
          },
          "metadata": {},
          "execution_count": 30
        }
      ]
    },
    {
      "cell_type": "code",
      "metadata": {
        "colab": {
          "base_uri": "https://localhost:8080/"
        },
        "id": "r5orB5pDK4uN",
        "outputId": "6c2101fc-7895-4656-d11d-5a8175c49a76"
      },
      "source": [
        "A.isdisjoint(B)"
      ],
      "execution_count": 31,
      "outputs": [
        {
          "output_type": "execute_result",
          "data": {
            "text/plain": [
              "False"
            ]
          },
          "metadata": {},
          "execution_count": 31
        }
      ]
    },
    {
      "cell_type": "code",
      "metadata": {
        "id": "u16H1rAlLn0V"
      },
      "source": [
        "from sympy import FiniteSet"
      ],
      "execution_count": 35,
      "outputs": []
    },
    {
      "cell_type": "code",
      "metadata": {
        "id": "57rnp6ifL5H8"
      },
      "source": [
        "E = FiniteSet( 1, 2, 3)\n",
        "F = FiniteSet( 0, 1, 2, 3, 4, 5)"
      ],
      "execution_count": 36,
      "outputs": []
    },
    {
      "cell_type": "code",
      "metadata": {
        "colab": {
          "base_uri": "https://localhost:8080/",
          "height": 37
        },
        "id": "OoUlAojkMCVl",
        "outputId": "d9805e31-875e-4145-80fc-a840da78c4a3"
      },
      "source": [
        "E"
      ],
      "execution_count": 37,
      "outputs": [
        {
          "output_type": "execute_result",
          "data": {
            "text/latex": "$\\displaystyle \\left\\{1, 2, 3\\right\\}$",
            "text/plain": [
              "FiniteSet(1, 2, 3)"
            ]
          },
          "metadata": {},
          "execution_count": 37
        }
      ]
    },
    {
      "cell_type": "code",
      "metadata": {
        "colab": {
          "base_uri": "https://localhost:8080/",
          "height": 37
        },
        "id": "26hq32SgMMYp",
        "outputId": "e151c100-12d3-4253-fc32-ab3ca7b480b0"
      },
      "source": [
        "vacio = FiniteSet()\n",
        "vacio"
      ],
      "execution_count": 38,
      "outputs": [
        {
          "output_type": "execute_result",
          "data": {
            "text/latex": "$\\displaystyle \\emptyset$",
            "text/plain": [
              "EmptySet"
            ]
          },
          "metadata": {},
          "execution_count": 38
        }
      ]
    },
    {
      "cell_type": "code",
      "metadata": {
        "colab": {
          "base_uri": "https://localhost:8080/",
          "height": 37
        },
        "id": "tD6N6LRhMgqm",
        "outputId": "d0a16ad0-6f62-404e-bed7-3d82dc87a8d0"
      },
      "source": [
        "E.intersect(F)"
      ],
      "execution_count": 39,
      "outputs": [
        {
          "output_type": "execute_result",
          "data": {
            "text/latex": "$\\displaystyle \\left\\{1, 2, 3\\right\\}$",
            "text/plain": [
              "FiniteSet(1, 2, 3)"
            ]
          },
          "metadata": {},
          "execution_count": 39
        }
      ]
    },
    {
      "cell_type": "code",
      "metadata": {
        "colab": {
          "base_uri": "https://localhost:8080/",
          "height": 37
        },
        "id": "HeWAfWjGMk6Y",
        "outputId": "1b8f2194-df7a-49a2-a081-cb2ead5262a2"
      },
      "source": [
        "E.union(F)"
      ],
      "execution_count": 40,
      "outputs": [
        {
          "output_type": "execute_result",
          "data": {
            "text/latex": "$\\displaystyle \\left\\{0, 1, 2, 3, 4, 5\\right\\}$",
            "text/plain": [
              "FiniteSet(0, 1, 2, 3, 4, 5)"
            ]
          },
          "metadata": {},
          "execution_count": 40
        }
      ]
    },
    {
      "cell_type": "code",
      "metadata": {
        "colab": {
          "base_uri": "https://localhost:8080/",
          "height": 37
        },
        "id": "DCw5v8X_Mowe",
        "outputId": "98601cd7-2ce7-4635-a725-c8ee0a75c771"
      },
      "source": [
        "G = E * F\n",
        "G"
      ],
      "execution_count": 41,
      "outputs": [
        {
          "output_type": "execute_result",
          "data": {
            "text/latex": "$\\displaystyle \\left\\{1, 2, 3\\right\\} \\times \\left\\{0, 1, 2, 3, 4, 5\\right\\}$",
            "text/plain": [
              "ProductSet(FiniteSet(1, 2, 3), FiniteSet(0, 1, 2, 3, 4, 5))"
            ]
          },
          "metadata": {},
          "execution_count": 41
        }
      ]
    },
    {
      "cell_type": "code",
      "metadata": {
        "colab": {
          "base_uri": "https://localhost:8080/"
        },
        "id": "V3i9ZnSZMxPS",
        "outputId": "87227b50-c5f1-4bc0-f045-703c6bc8b60e"
      },
      "source": [
        "for i in G:\n",
        "  print(i)"
      ],
      "execution_count": 42,
      "outputs": [
        {
          "output_type": "stream",
          "name": "stdout",
          "text": [
            "(1, 0)\n",
            "(2, 0)\n",
            "(1, 1)\n",
            "(3, 0)\n",
            "(2, 1)\n",
            "(1, 2)\n",
            "(3, 1)\n",
            "(2, 2)\n",
            "(1, 3)\n",
            "(3, 2)\n",
            "(2, 3)\n",
            "(1, 4)\n",
            "(3, 3)\n",
            "(2, 4)\n",
            "(1, 5)\n",
            "(3, 4)\n",
            "(2, 5)\n",
            "(3, 5)\n"
          ]
        }
      ]
    },
    {
      "cell_type": "code",
      "metadata": {
        "colab": {
          "base_uri": "https://localhost:8080/",
          "height": 38
        },
        "id": "_8nxk1K4M6Oi",
        "outputId": "603f80a3-abe5-4866-a504-8be006cca801"
      },
      "source": [
        "E ** 2"
      ],
      "execution_count": 43,
      "outputs": [
        {
          "output_type": "execute_result",
          "data": {
            "text/latex": "$\\displaystyle \\left\\{1, 2, 3\\right\\}^{2}$",
            "text/plain": [
              "ProductSet(FiniteSet(1, 2, 3), FiniteSet(1, 2, 3))"
            ]
          },
          "metadata": {},
          "execution_count": 43
        }
      ]
    },
    {
      "cell_type": "code",
      "metadata": {
        "colab": {
          "base_uri": "https://localhost:8080/"
        },
        "id": "4nZ9THj_M_8K",
        "outputId": "2e85f0e4-5cec-480f-83ea-cb7942e7bcb7"
      },
      "source": [
        "for i in E**2:\n",
        "  print(i)"
      ],
      "execution_count": 44,
      "outputs": [
        {
          "output_type": "stream",
          "name": "stdout",
          "text": [
            "(1, 1)\n",
            "(2, 1)\n",
            "(1, 2)\n",
            "(3, 1)\n",
            "(2, 2)\n",
            "(1, 3)\n",
            "(3, 2)\n",
            "(2, 3)\n",
            "(3, 3)\n"
          ]
        }
      ]
    },
    {
      "cell_type": "code",
      "metadata": {
        "colab": {
          "base_uri": "https://localhost:8080/",
          "height": 37
        },
        "id": "wWcQ5R50NF9u",
        "outputId": "191de1fa-4f65-4ff0-aef3-c7aaba04189c"
      },
      "source": [
        "E.powerset()"
      ],
      "execution_count": 45,
      "outputs": [
        {
          "output_type": "execute_result",
          "data": {
            "text/latex": "$\\displaystyle \\left\\{\\emptyset, \\left\\{1\\right\\}, \\left\\{2\\right\\}, \\left\\{3\\right\\}, \\left\\{1, 2\\right\\}, \\left\\{1, 3\\right\\}, \\left\\{2, 3\\right\\}, \\left\\{1, 2, 3\\right\\}\\right\\}$",
            "text/plain": [
              "FiniteSet(FiniteSet(1), FiniteSet(1, 2), FiniteSet(1, 3), FiniteSet(1, 2, 3), FiniteSet(2), FiniteSet(2, 3), FiniteSet(3), EmptySet)"
            ]
          },
          "metadata": {},
          "execution_count": 45
        }
      ]
    },
    {
      "cell_type": "code",
      "metadata": {
        "colab": {
          "base_uri": "https://localhost:8080/",
          "height": 57
        },
        "id": "YJ55iT4dNk6D",
        "outputId": "cb9718a7-3a60-4704-9f56-dffbefe1ce11"
      },
      "source": [
        "F.powerset()"
      ],
      "execution_count": 46,
      "outputs": [
        {
          "output_type": "execute_result",
          "data": {
            "text/latex": "$\\displaystyle \\left\\{\\emptyset, \\left\\{0\\right\\}, \\left\\{1\\right\\}, \\left\\{2\\right\\}, \\left\\{3\\right\\}, \\left\\{4\\right\\}, \\left\\{5\\right\\}, \\left\\{0, 1\\right\\}, \\left\\{0, 2\\right\\}, \\left\\{0, 3\\right\\}, \\left\\{0, 4\\right\\}, \\left\\{0, 5\\right\\}, \\left\\{1, 2\\right\\}, \\left\\{1, 3\\right\\}, \\left\\{1, 4\\right\\}, \\left\\{1, 5\\right\\}, \\left\\{2, 3\\right\\}, \\left\\{2, 4\\right\\}, \\left\\{2, 5\\right\\}, \\left\\{3, 4\\right\\}, \\left\\{3, 5\\right\\}, \\left\\{4, 5\\right\\}, \\left\\{0, 1, 2\\right\\}, \\left\\{0, 1, 3\\right\\}, \\left\\{0, 1, 4\\right\\}, \\left\\{0, 1, 5\\right\\}, \\left\\{0, 2, 3\\right\\}, \\left\\{0, 2, 4\\right\\}, \\left\\{0, 2, 5\\right\\}, \\left\\{0, 3, 4\\right\\}, \\left\\{0, 3, 5\\right\\}, \\left\\{0, 4, 5\\right\\}, \\left\\{1, 2, 3\\right\\}, \\left\\{1, 2, 4\\right\\}, \\left\\{1, 2, 5\\right\\}, \\left\\{1, 3, 4\\right\\}, \\left\\{1, 3, 5\\right\\}, \\left\\{1, 4, 5\\right\\}, \\left\\{2, 3, 4\\right\\}, \\left\\{2, 3, 5\\right\\}, \\left\\{2, 4, 5\\right\\}, \\left\\{3, 4, 5\\right\\}, \\left\\{0, 1, 2, 3\\right\\}, \\left\\{0, 1, 2, 4\\right\\}, \\left\\{0, 1, 2, 5\\right\\}, \\left\\{0, 1, 3, 4\\right\\}, \\left\\{0, 1, 3, 5\\right\\}, \\left\\{0, 1, 4, 5\\right\\}, \\left\\{0, 2, 3, 4\\right\\}, \\left\\{0, 2, 3, 5\\right\\}, \\left\\{0, 2, 4, 5\\right\\}, \\left\\{0, 3, 4, 5\\right\\}, \\left\\{1, 2, 3, 4\\right\\}, \\left\\{1, 2, 3, 5\\right\\}, \\left\\{1, 2, 4, 5\\right\\}, \\left\\{1, 3, 4, 5\\right\\}, \\left\\{2, 3, 4, 5\\right\\}, \\left\\{0, 1, 2, 3, 4\\right\\}, \\left\\{0, 1, 2, 3, 5\\right\\}, \\left\\{0, 1, 2, 4, 5\\right\\}, \\left\\{0, 1, 3, 4, 5\\right\\}, \\left\\{0, 2, 3, 4, 5\\right\\}, \\left\\{1, 2, 3, 4, 5\\right\\}, \\left\\{0, 1, 2, 3, 4, 5\\right\\}\\right\\}$",
            "text/plain": [
              "FiniteSet(FiniteSet(0), FiniteSet(0, 1), FiniteSet(0, 2), FiniteSet(0, 3), FiniteSet(0, 4), FiniteSet(0, 5), FiniteSet(0, 1, 2), FiniteSet(0, 1, 3), FiniteSet(0, 1, 4), FiniteSet(0, 1, 5), FiniteSet(0, 2, 3), FiniteSet(0, 2, 4), FiniteSet(0, 2, 5), FiniteSet(0, 3, 4), FiniteSet(0, 3, 5), FiniteSet(0, 4, 5), FiniteSet(0, 1, 2, 3), FiniteSet(0, 1, 2, 4), FiniteSet(0, 1, 2, 5), FiniteSet(0, 1, 3, 4), FiniteSet(0, 1, 3, 5), FiniteSet(0, 1, 4, 5), FiniteSet(0, 2, 3, 4), FiniteSet(0, 2, 3, 5), FiniteSet(0, 2, 4, 5), FiniteSet(0, 3, 4, 5), FiniteSet(0, 1, 2, 3, 4), FiniteSet(0, 1, 2, 3, 5), FiniteSet(0, 1, 2, 4, 5), FiniteSet(0, 1, 3, 4, 5), FiniteSet(0, 2, 3, 4, 5), FiniteSet(0, 1, 2, 3, 4, 5), FiniteSet(1), FiniteSet(1, 2), FiniteSet(1, 3), FiniteSet(1, 4), FiniteSet(1, 5), FiniteSet(1, 2, 3), FiniteSet(1, 2, 4), FiniteSet(1, 2, 5), FiniteSet(1, 3, 4), FiniteSet(1, 3, 5), FiniteSet(1, 4, 5), FiniteSet(1, 2, 3, 4), FiniteSet(1, 2, 3, 5), FiniteSet(1, 2, 4, 5), FiniteSet(1, 3, 4, 5), FiniteSet(1, 2, 3, 4, 5), FiniteSet(2), FiniteSet(2, 3), FiniteSet(2, 4), FiniteSet(2, 5), FiniteSet(2, 3, 4), FiniteSet(2, 3, 5), FiniteSet(2, 4, 5), FiniteSet(2, 3, 4, 5), FiniteSet(3), FiniteSet(3, 4), FiniteSet(3, 5), FiniteSet(3, 4, 5), FiniteSet(4), FiniteSet(4, 5), FiniteSet(5), EmptySet)"
            ]
          },
          "metadata": {},
          "execution_count": 46
        }
      ]
    },
    {
      "cell_type": "code",
      "metadata": {
        "id": "bgIJHNEWN_sJ"
      },
      "source": [
        "from matplotlib_venn import venn2, venn2_circles\n",
        "import matplotlib.pyplot as plt "
      ],
      "execution_count": 47,
      "outputs": []
    },
    {
      "cell_type": "code",
      "metadata": {
        "id": "I4xfqFZUOhJo"
      },
      "source": [
        "A = {1,2,3}\n",
        "B = {3,4,5}\n"
      ],
      "execution_count": 48,
      "outputs": []
    },
    {
      "cell_type": "code",
      "metadata": {
        "colab": {
          "base_uri": "https://localhost:8080/",
          "height": 250
        },
        "id": "xH6lx-G9Ovr2",
        "outputId": "505ac521-56ee-41d7-cd0f-978c77575a5d"
      },
      "source": [
        "v = venn2(subsets = [A, B], set_labels =('A', 'B'), set_colors=('red', 'blue'), alpha = 0.5)\n",
        "venn2_circles(subsets = [A, B])\n",
        "\n",
        "v.get_label_by_id('10').set_text(A-B)\n",
        "v.get_label_by_id('11').set_text(A.intersection(B))\n",
        "v.get_label_by_id('01').set_text(B-A)\n",
        "plt.show()"
      ],
      "execution_count": 70,
      "outputs": [
        {
          "output_type": "display_data",
          "data": {
            "image/png": "[encoded data removed]",
            "text/plain": [
              "<Figure size 432x288 with 1 Axes>"
            ]
          },
          "metadata": {}
        }
      ]
    },
    {
      "cell_type": "code",
      "metadata": {
        "id": "e_AaNOmdSRKC"
      },
      "source": [
        ""
      ],
      "execution_count": null,
      "outputs": []
    },
    {
      "cell_type": "code",
      "metadata": {
        "id": "SUj9G7IKQ7xQ"
      },
      "source": [
        "A = {1,2}\n",
        "B = {4,5}"
      ],
      "execution_count": 71,
      "outputs": []
    },
    {
      "cell_type": "code",
      "metadata": {
        "colab": {
          "base_uri": "https://localhost:8080/",
          "height": 184
        },
        "id": "eJUZr-GPQ_2l",
        "outputId": "15a9bbec-13fd-4fb2-d51f-76cc0d5d94b7"
      },
      "source": [
        "v = venn2(subsets = [A, B], set_labels =('A', 'B'), set_colors=('red', 'blue'), alpha = 0.5)\n",
        "venn2_circles(subsets = [A, B])\n",
        "\n",
        "v.get_label_by_id('10').set_text(A)\n",
        "\n",
        "v.get_label_by_id('01').set_text(B)\n",
        "plt.show()"
      ],
      "execution_count": 73,
      "outputs": [
        {
          "output_type": "display_data",
          "data": {
            "image/png": "[encoded data removed]",
            "text/plain": [
              "<Figure size 432x288 with 1 Axes>"
            ]
          },
          "metadata": {}
        }
      ]
    }
  ]
}