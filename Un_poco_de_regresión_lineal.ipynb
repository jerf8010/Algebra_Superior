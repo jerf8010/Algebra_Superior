{
  "nbformat": 4,
  "nbformat_minor": 0,
  "metadata": {
    "colab": {
      "name": "Un poco de regresión lineal.ipynb",
      "provenance": []
    },
    "kernelspec": {
      "name": "python3",
      "display_name": "Python 3"
    },
    "language_info": {
      "name": "python"
    }
  },
  "cells": [
    {
      "cell_type": "code",
      "metadata": {
        "id": "PCeV_nX5latB"
      },
      "source": [
        "import pandas as pd\n",
        "import matplotlib.pyplot as plt"
      ],
      "execution_count": 2,
      "outputs": []
    },
    {
      "cell_type": "code",
      "metadata": {
        "id": "7GHjABxErLYp"
      },
      "source": [
        "datos_temperatura = pd.read_csv( 'https://pkgstore.datahub.io/core/global-temp/annual_csv/data/a26b154688b061cdd04f1df36e4408be/annual_csv.csv' )"
      ],
      "execution_count": 3,
      "outputs": []
    },
    {
      "cell_type": "code",
      "metadata": {
        "colab": {
          "base_uri": "https://localhost:8080/",
          "height": 203
        },
        "id": "mUb2-kHbrtuH",
        "outputId": "634f8aba-2c26-4c6b-b003-5e25ce83c984"
      },
      "source": [
        "datos_temperatura.head( 5 )"
      ],
      "execution_count": 7,
      "outputs": [
        {
          "output_type": "execute_result",
          "data": {
            "text/html": [
              "<div>\n",
              "<style scoped>\n",
              "    .dataframe tbody tr th:only-of-type {\n",
              "        vertical-align: middle;\n",
              "    }\n",
              "\n",
              "    .dataframe tbody tr th {\n",
              "        vertical-align: top;\n",
              "    }\n",
              "\n",
              "    .dataframe thead th {\n",
              "        text-align: right;\n",
              "    }\n",
              "</style>\n",
              "<table border=\"1\" class=\"dataframe\">\n",
              "  <thead>\n",
              "    <tr style=\"text-align: right;\">\n",
              "      <th></th>\n",
              "      <th>Source</th>\n",
              "      <th>Year</th>\n",
              "      <th>Mean</th>\n",
              "    </tr>\n",
              "  </thead>\n",
              "  <tbody>\n",
              "    <tr>\n",
              "      <th>0</th>\n",
              "      <td>GCAG</td>\n",
              "      <td>2016</td>\n",
              "      <td>0.9363</td>\n",
              "    </tr>\n",
              "    <tr>\n",
              "      <th>1</th>\n",
              "      <td>GISTEMP</td>\n",
              "      <td>2016</td>\n",
              "      <td>0.9900</td>\n",
              "    </tr>\n",
              "    <tr>\n",
              "      <th>2</th>\n",
              "      <td>GCAG</td>\n",
              "      <td>2015</td>\n",
              "      <td>0.8998</td>\n",
              "    </tr>\n",
              "    <tr>\n",
              "      <th>3</th>\n",
              "      <td>GISTEMP</td>\n",
              "      <td>2015</td>\n",
              "      <td>0.8700</td>\n",
              "    </tr>\n",
              "    <tr>\n",
              "      <th>4</th>\n",
              "      <td>GCAG</td>\n",
              "      <td>2014</td>\n",
              "      <td>0.7408</td>\n",
              "    </tr>\n",
              "  </tbody>\n",
              "</table>\n",
              "</div>"
            ],
            "text/plain": [
              "    Source  Year    Mean\n",
              "0     GCAG  2016  0.9363\n",
              "1  GISTEMP  2016  0.9900\n",
              "2     GCAG  2015  0.8998\n",
              "3  GISTEMP  2015  0.8700\n",
              "4     GCAG  2014  0.7408"
            ]
          },
          "metadata": {},
          "execution_count": 7
        }
      ]
    },
    {
      "cell_type": "code",
      "metadata": {
        "colab": {
          "base_uri": "https://localhost:8080/"
        },
        "id": "EhG_FXlpszpI",
        "outputId": "84bbd985-dc40-4c89-ee21-a8b167c199d4"
      },
      "source": [
        "datos_temperatura['Source'].unique()"
      ],
      "execution_count": 9,
      "outputs": [
        {
          "output_type": "execute_result",
          "data": {
            "text/plain": [
              "array(['GCAG', 'GISTEMP'], dtype=object)"
            ]
          },
          "metadata": {},
          "execution_count": 9
        }
      ]
    },
    {
      "cell_type": "code",
      "metadata": {
        "colab": {
          "base_uri": "https://localhost:8080/",
          "height": 203
        },
        "id": "p3l-pEGdtAbm",
        "outputId": "dfb28b40-4eb4-4420-eadf-cb2457fb4cbd"
      },
      "source": [
        "datos_GCAG = datos_temperatura[ datos_temperatura['Source'] == 'GCAG' ]\n",
        "datos_GCAG = datos_GCAG.drop( ['Source'], axis = 1 )\n",
        "datos_GCAG.head()"
      ],
      "execution_count": 53,
      "outputs": [
        {
          "output_type": "execute_result",
          "data": {
            "text/html": [
              "<div>\n",
              "<style scoped>\n",
              "    .dataframe tbody tr th:only-of-type {\n",
              "        vertical-align: middle;\n",
              "    }\n",
              "\n",
              "    .dataframe tbody tr th {\n",
              "        vertical-align: top;\n",
              "    }\n",
              "\n",
              "    .dataframe thead th {\n",
              "        text-align: right;\n",
              "    }\n",
              "</style>\n",
              "<table border=\"1\" class=\"dataframe\">\n",
              "  <thead>\n",
              "    <tr style=\"text-align: right;\">\n",
              "      <th></th>\n",
              "      <th>Year</th>\n",
              "      <th>Mean</th>\n",
              "    </tr>\n",
              "  </thead>\n",
              "  <tbody>\n",
              "    <tr>\n",
              "      <th>0</th>\n",
              "      <td>2016</td>\n",
              "      <td>0.9363</td>\n",
              "    </tr>\n",
              "    <tr>\n",
              "      <th>2</th>\n",
              "      <td>2015</td>\n",
              "      <td>0.8998</td>\n",
              "    </tr>\n",
              "    <tr>\n",
              "      <th>4</th>\n",
              "      <td>2014</td>\n",
              "      <td>0.7408</td>\n",
              "    </tr>\n",
              "    <tr>\n",
              "      <th>6</th>\n",
              "      <td>2013</td>\n",
              "      <td>0.6679</td>\n",
              "    </tr>\n",
              "    <tr>\n",
              "      <th>8</th>\n",
              "      <td>2012</td>\n",
              "      <td>0.6240</td>\n",
              "    </tr>\n",
              "  </tbody>\n",
              "</table>\n",
              "</div>"
            ],
            "text/plain": [
              "   Year    Mean\n",
              "0  2016  0.9363\n",
              "2  2015  0.8998\n",
              "4  2014  0.7408\n",
              "6  2013  0.6679\n",
              "8  2012  0.6240"
            ]
          },
          "metadata": {},
          "execution_count": 53
        }
      ]
    },
    {
      "cell_type": "code",
      "metadata": {
        "id": "S-pozrPpt_uL"
      },
      "source": [
        "y = datos_GCAG.iloc[:, 1].values # Promedio de temperaturas en modo matriz\n",
        "x = datos_GCAG.iloc[:, : -1 ].values #  Año en modo matriz\n"
      ],
      "execution_count": 15,
      "outputs": []
    },
    {
      "cell_type": "code",
      "metadata": {
        "colab": {
          "base_uri": "https://localhost:8080/",
          "height": 269
        },
        "id": "t04SPNdSutjG",
        "outputId": "d709e9dc-dc3c-4d3d-b323-c0f3dac75dc1"
      },
      "source": [
        "plt.scatter( x, y)\n",
        "plt.show()"
      ],
      "execution_count": 19,
      "outputs": [
        {
          "output_type": "display_data",
          "data": {
            "image/png": "[encoded data removed]",
            "text/plain": [
              "<Figure size 432x288 with 1 Axes>"
            ]
          },
          "metadata": {
            "needs_background": "light"
          }
        }
      ]
    },
    {
      "cell_type": "code",
      "metadata": {
        "id": "vnXNWdwjvxCL"
      },
      "source": [
        "from sklearn.linear_model import LinearRegression"
      ],
      "execution_count": 20,
      "outputs": []
    },
    {
      "cell_type": "code",
      "metadata": {
        "id": "f5fGf-2FxSCJ"
      },
      "source": [
        "regresor = LinearRegression()"
      ],
      "execution_count": 21,
      "outputs": []
    },
    {
      "cell_type": "code",
      "metadata": {
        "colab": {
          "base_uri": "https://localhost:8080/"
        },
        "id": "Lpt8mauoxfeO",
        "outputId": "501b9431-c276-417e-93ea-19513fe37c8e"
      },
      "source": [
        "regresor.fit( x, y )"
      ],
      "execution_count": 22,
      "outputs": [
        {
          "output_type": "execute_result",
          "data": {
            "text/plain": [
              "LinearRegression(copy_X=True, fit_intercept=True, n_jobs=None, normalize=False)"
            ]
          },
          "metadata": {},
          "execution_count": 22
        }
      ]
    },
    {
      "cell_type": "code",
      "metadata": {
        "colab": {
          "base_uri": "https://localhost:8080/"
        },
        "id": "zbf4DhbZx4sr",
        "outputId": "82b1dc29-f166-4c0b-c562-c3c602c398d6"
      },
      "source": [
        "regresor.predict( [[ 2050 ]] )"
      ],
      "execution_count": 23,
      "outputs": [
        {
          "output_type": "execute_result",
          "data": {
            "text/plain": [
              "array([0.74444151])"
            ]
          },
          "metadata": {},
          "execution_count": 23
        }
      ]
    },
    {
      "cell_type": "code",
      "metadata": {
        "colab": {
          "base_uri": "https://localhost:8080/",
          "height": 269
        },
        "id": "vAaeYVVryVdT",
        "outputId": "25d06f9e-9e75-49cd-f8ba-a5bb02ed56c0"
      },
      "source": [
        "plt.scatter( x, y)\n",
        "plt.plot( x, regresor.predict(x), color = 'r' )\n",
        "plt.show()"
      ],
      "execution_count": 25,
      "outputs": [
        {
          "output_type": "display_data",
          "data": {
            "image/png": "[encoded data removed]",
            "text/plain": [
              "<Figure size 432x288 with 1 Axes>"
            ]
          },
          "metadata": {
            "needs_background": "light"
          }
        }
      ]
    },
    {
      "cell_type": "code",
      "metadata": {
        "id": "Hnlo2bwfzdOf"
      },
      "source": [
        "from sklearn.preprocessing import PolynomialFeatures"
      ],
      "execution_count": 26,
      "outputs": []
    },
    {
      "cell_type": "code",
      "metadata": {
        "colab": {
          "base_uri": "https://localhost:8080/"
        },
        "id": "aQ2cYNP8zlF7",
        "outputId": "8480ff4e-dab2-461a-9193-f0f7693203b1"
      },
      "source": [
        "poly_reg = PolynomialFeatures( degree = 2 )\n",
        "x_poly = poly_reg.fit_transform( x)\n",
        "x_poly\n"
      ],
      "execution_count": 47,
      "outputs": [
        {
          "output_type": "execute_result",
          "data": {
            "text/plain": [
              "array([[1.000000e+00, 2.016000e+03, 4.064256e+06],\n",
              "       [1.000000e+00, 2.015000e+03, 4.060225e+06],\n",
              "       [1.000000e+00, 2.014000e+03, 4.056196e+06],\n",
              "       [1.000000e+00, 2.013000e+03, 4.052169e+06],\n",
              "       [1.000000e+00, 2.012000e+03, 4.048144e+06],\n",
              "       [1.000000e+00, 2.011000e+03, 4.044121e+06],\n",
              "       [1.000000e+00, 2.010000e+03, 4.040100e+06],\n",
              "       [1.000000e+00, 2.009000e+03, 4.036081e+06],\n",
              "       [1.000000e+00, 2.008000e+03, 4.032064e+06],\n",
              "       [1.000000e+00, 2.007000e+03, 4.028049e+06],\n",
              "       [1.000000e+00, 2.006000e+03, 4.024036e+06],\n",
              "       [1.000000e+00, 2.005000e+03, 4.020025e+06],\n",
              "       [1.000000e+00, 2.004000e+03, 4.016016e+06],\n",
              "       [1.000000e+00, 2.003000e+03, 4.012009e+06],\n",
              "       [1.000000e+00, 2.002000e+03, 4.008004e+06],\n",
              "       [1.000000e+00, 2.001000e+03, 4.004001e+06],\n",
              "       [1.000000e+00, 2.000000e+03, 4.000000e+06],\n",
              "       [1.000000e+00, 1.999000e+03, 3.996001e+06],\n",
              "       [1.000000e+00, 1.998000e+03, 3.992004e+06],\n",
              "       [1.000000e+00, 1.997000e+03, 3.988009e+06],\n",
              "       [1.000000e+00, 1.996000e+03, 3.984016e+06],\n",
              "       [1.000000e+00, 1.995000e+03, 3.980025e+06],\n",
              "       [1.000000e+00, 1.994000e+03, 3.976036e+06],\n",
              "       [1.000000e+00, 1.993000e+03, 3.972049e+06],\n",
              "       [1.000000e+00, 1.992000e+03, 3.968064e+06],\n",
              "       [1.000000e+00, 1.991000e+03, 3.964081e+06],\n",
              "       [1.000000e+00, 1.990000e+03, 3.960100e+06],\n",
              "       [1.000000e+00, 1.989000e+03, 3.956121e+06],\n",
              "       [1.000000e+00, 1.988000e+03, 3.952144e+06],\n",
              "       [1.000000e+00, 1.987000e+03, 3.948169e+06],\n",
              "       [1.000000e+00, 1.986000e+03, 3.944196e+06],\n",
              "       [1.000000e+00, 1.985000e+03, 3.940225e+06],\n",
              "       [1.000000e+00, 1.984000e+03, 3.936256e+06],\n",
              "       [1.000000e+00, 1.983000e+03, 3.932289e+06],\n",
              "       [1.000000e+00, 1.982000e+03, 3.928324e+06],\n",
              "       [1.000000e+00, 1.981000e+03, 3.924361e+06],\n",
              "       [1.000000e+00, 1.980000e+03, 3.920400e+06],\n",
              "       [1.000000e+00, 1.979000e+03, 3.916441e+06],\n",
              "       [1.000000e+00, 1.978000e+03, 3.912484e+06],\n",
              "       [1.000000e+00, 1.977000e+03, 3.908529e+06],\n",
              "       [1.000000e+00, 1.976000e+03, 3.904576e+06],\n",
              "       [1.000000e+00, 1.975000e+03, 3.900625e+06],\n",
              "       [1.000000e+00, 1.974000e+03, 3.896676e+06],\n",
              "       [1.000000e+00, 1.973000e+03, 3.892729e+06],\n",
              "       [1.000000e+00, 1.972000e+03, 3.888784e+06],\n",
              "       [1.000000e+00, 1.971000e+03, 3.884841e+06],\n",
              "       [1.000000e+00, 1.970000e+03, 3.880900e+06],\n",
              "       [1.000000e+00, 1.969000e+03, 3.876961e+06],\n",
              "       [1.000000e+00, 1.968000e+03, 3.873024e+06],\n",
              "       [1.000000e+00, 1.967000e+03, 3.869089e+06],\n",
              "       [1.000000e+00, 1.966000e+03, 3.865156e+06],\n",
              "       [1.000000e+00, 1.965000e+03, 3.861225e+06],\n",
              "       [1.000000e+00, 1.964000e+03, 3.857296e+06],\n",
              "       [1.000000e+00, 1.963000e+03, 3.853369e+06],\n",
              "       [1.000000e+00, 1.962000e+03, 3.849444e+06],\n",
              "       [1.000000e+00, 1.961000e+03, 3.845521e+06],\n",
              "       [1.000000e+00, 1.960000e+03, 3.841600e+06],\n",
              "       [1.000000e+00, 1.959000e+03, 3.837681e+06],\n",
              "       [1.000000e+00, 1.958000e+03, 3.833764e+06],\n",
              "       [1.000000e+00, 1.957000e+03, 3.829849e+06],\n",
              "       [1.000000e+00, 1.956000e+03, 3.825936e+06],\n",
              "       [1.000000e+00, 1.955000e+03, 3.822025e+06],\n",
              "       [1.000000e+00, 1.954000e+03, 3.818116e+06],\n",
              "       [1.000000e+00, 1.953000e+03, 3.814209e+06],\n",
              "       [1.000000e+00, 1.952000e+03, 3.810304e+06],\n",
              "       [1.000000e+00, 1.951000e+03, 3.806401e+06],\n",
              "       [1.000000e+00, 1.950000e+03, 3.802500e+06],\n",
              "       [1.000000e+00, 1.949000e+03, 3.798601e+06],\n",
              "       [1.000000e+00, 1.948000e+03, 3.794704e+06],\n",
              "       [1.000000e+00, 1.947000e+03, 3.790809e+06],\n",
              "       [1.000000e+00, 1.946000e+03, 3.786916e+06],\n",
              "       [1.000000e+00, 1.945000e+03, 3.783025e+06],\n",
              "       [1.000000e+00, 1.944000e+03, 3.779136e+06],\n",
              "       [1.000000e+00, 1.943000e+03, 3.775249e+06],\n",
              "       [1.000000e+00, 1.942000e+03, 3.771364e+06],\n",
              "       [1.000000e+00, 1.941000e+03, 3.767481e+06],\n",
              "       [1.000000e+00, 1.940000e+03, 3.763600e+06],\n",
              "       [1.000000e+00, 1.939000e+03, 3.759721e+06],\n",
              "       [1.000000e+00, 1.938000e+03, 3.755844e+06],\n",
              "       [1.000000e+00, 1.937000e+03, 3.751969e+06],\n",
              "       [1.000000e+00, 1.936000e+03, 3.748096e+06],\n",
              "       [1.000000e+00, 1.935000e+03, 3.744225e+06],\n",
              "       [1.000000e+00, 1.934000e+03, 3.740356e+06],\n",
              "       [1.000000e+00, 1.933000e+03, 3.736489e+06],\n",
              "       [1.000000e+00, 1.932000e+03, 3.732624e+06],\n",
              "       [1.000000e+00, 1.931000e+03, 3.728761e+06],\n",
              "       [1.000000e+00, 1.930000e+03, 3.724900e+06],\n",
              "       [1.000000e+00, 1.929000e+03, 3.721041e+06],\n",
              "       [1.000000e+00, 1.928000e+03, 3.717184e+06],\n",
              "       [1.000000e+00, 1.927000e+03, 3.713329e+06],\n",
              "       [1.000000e+00, 1.926000e+03, 3.709476e+06],\n",
              "       [1.000000e+00, 1.925000e+03, 3.705625e+06],\n",
              "       [1.000000e+00, 1.924000e+03, 3.701776e+06],\n",
              "       [1.000000e+00, 1.923000e+03, 3.697929e+06],\n",
              "       [1.000000e+00, 1.922000e+03, 3.694084e+06],\n",
              "       [1.000000e+00, 1.921000e+03, 3.690241e+06],\n",
              "       [1.000000e+00, 1.920000e+03, 3.686400e+06],\n",
              "       [1.000000e+00, 1.919000e+03, 3.682561e+06],\n",
              "       [1.000000e+00, 1.918000e+03, 3.678724e+06],\n",
              "       [1.000000e+00, 1.917000e+03, 3.674889e+06],\n",
              "       [1.000000e+00, 1.916000e+03, 3.671056e+06],\n",
              "       [1.000000e+00, 1.915000e+03, 3.667225e+06],\n",
              "       [1.000000e+00, 1.914000e+03, 3.663396e+06],\n",
              "       [1.000000e+00, 1.913000e+03, 3.659569e+06],\n",
              "       [1.000000e+00, 1.912000e+03, 3.655744e+06],\n",
              "       [1.000000e+00, 1.911000e+03, 3.651921e+06],\n",
              "       [1.000000e+00, 1.910000e+03, 3.648100e+06],\n",
              "       [1.000000e+00, 1.909000e+03, 3.644281e+06],\n",
              "       [1.000000e+00, 1.908000e+03, 3.640464e+06],\n",
              "       [1.000000e+00, 1.907000e+03, 3.636649e+06],\n",
              "       [1.000000e+00, 1.906000e+03, 3.632836e+06],\n",
              "       [1.000000e+00, 1.905000e+03, 3.629025e+06],\n",
              "       [1.000000e+00, 1.904000e+03, 3.625216e+06],\n",
              "       [1.000000e+00, 1.903000e+03, 3.621409e+06],\n",
              "       [1.000000e+00, 1.902000e+03, 3.617604e+06],\n",
              "       [1.000000e+00, 1.901000e+03, 3.613801e+06],\n",
              "       [1.000000e+00, 1.900000e+03, 3.610000e+06],\n",
              "       [1.000000e+00, 1.899000e+03, 3.606201e+06],\n",
              "       [1.000000e+00, 1.898000e+03, 3.602404e+06],\n",
              "       [1.000000e+00, 1.897000e+03, 3.598609e+06],\n",
              "       [1.000000e+00, 1.896000e+03, 3.594816e+06],\n",
              "       [1.000000e+00, 1.895000e+03, 3.591025e+06],\n",
              "       [1.000000e+00, 1.894000e+03, 3.587236e+06],\n",
              "       [1.000000e+00, 1.893000e+03, 3.583449e+06],\n",
              "       [1.000000e+00, 1.892000e+03, 3.579664e+06],\n",
              "       [1.000000e+00, 1.891000e+03, 3.575881e+06],\n",
              "       [1.000000e+00, 1.890000e+03, 3.572100e+06],\n",
              "       [1.000000e+00, 1.889000e+03, 3.568321e+06],\n",
              "       [1.000000e+00, 1.888000e+03, 3.564544e+06],\n",
              "       [1.000000e+00, 1.887000e+03, 3.560769e+06],\n",
              "       [1.000000e+00, 1.886000e+03, 3.556996e+06],\n",
              "       [1.000000e+00, 1.885000e+03, 3.553225e+06],\n",
              "       [1.000000e+00, 1.884000e+03, 3.549456e+06],\n",
              "       [1.000000e+00, 1.883000e+03, 3.545689e+06],\n",
              "       [1.000000e+00, 1.882000e+03, 3.541924e+06],\n",
              "       [1.000000e+00, 1.881000e+03, 3.538161e+06],\n",
              "       [1.000000e+00, 1.880000e+03, 3.534400e+06]])"
            ]
          },
          "metadata": {},
          "execution_count": 47
        }
      ]
    },
    {
      "cell_type": "code",
      "metadata": {
        "colab": {
          "base_uri": "https://localhost:8080/"
        },
        "id": "1vjP136e0EHe",
        "outputId": "a0f5f1f1-9f86-46c6-c822-7ddebedf5b7a"
      },
      "source": [
        "regresor2 = LinearRegression()\n",
        "regresor2.fit( x_poly, y )"
      ],
      "execution_count": 48,
      "outputs": [
        {
          "output_type": "execute_result",
          "data": {
            "text/plain": [
              "LinearRegression(copy_X=True, fit_intercept=True, n_jobs=None, normalize=False)"
            ]
          },
          "metadata": {},
          "execution_count": 48
        }
      ]
    },
    {
      "cell_type": "code",
      "metadata": {
        "colab": {
          "base_uri": "https://localhost:8080/",
          "height": 269
        },
        "id": "hSEyHJTr0Psv",
        "outputId": "ced21b20-a630-4ff9-8c3c-2f1be5e3115f"
      },
      "source": [
        "plt.scatter( x, y)\n",
        "plt.plot( x, regresor2.predict(x_poly), color = 'r' )\n",
        "plt.show()"
      ],
      "execution_count": 49,
      "outputs": [
        {
          "output_type": "display_data",
          "data": {
            "image/png": "[encoded data removed]",
            "text/plain": [
              "<Figure size 432x288 with 1 Axes>"
            ]
          },
          "metadata": {
            "needs_background": "light"
          }
        }
      ]
    },
    {
      "cell_type": "code",
      "metadata": {
        "colab": {
          "base_uri": "https://localhost:8080/"
        },
        "id": "pkg9taEd0caY",
        "outputId": "bf9a3acc-8822-489b-88ab-f9aa8a510980"
      },
      "source": [
        "regresor2.predict( poly_reg.fit_transform([[2100]]))"
      ],
      "execution_count": 44,
      "outputs": [
        {
          "output_type": "execute_result",
          "data": {
            "text/plain": [
              "array([2.76476199])"
            ]
          },
          "metadata": {},
          "execution_count": 44
        }
      ]
    },
    {
      "cell_type": "code",
      "metadata": {
        "colab": {
          "base_uri": "https://localhost:8080/",
          "height": 203
        },
        "id": "PDZpeX_K2al8",
        "outputId": "d38e23c7-ed36-4c89-d8cc-c4589372ca2b"
      },
      "source": [
        "datos_poblacion = pd.read_csv('datos_poblacion.csv')\n",
        "datos_poblacion.head()"
      ],
      "execution_count": 55,
      "outputs": [
        {
          "output_type": "execute_result",
          "data": {
            "text/html": [
              "<div>\n",
              "<style scoped>\n",
              "    .dataframe tbody tr th:only-of-type {\n",
              "        vertical-align: middle;\n",
              "    }\n",
              "\n",
              "    .dataframe tbody tr th {\n",
              "        vertical-align: top;\n",
              "    }\n",
              "\n",
              "    .dataframe thead th {\n",
              "        text-align: right;\n",
              "    }\n",
              "</style>\n",
              "<table border=\"1\" class=\"dataframe\">\n",
              "  <thead>\n",
              "    <tr style=\"text-align: right;\">\n",
              "      <th></th>\n",
              "      <th>Year</th>\n",
              "      <th>Poblacion</th>\n",
              "    </tr>\n",
              "  </thead>\n",
              "  <tbody>\n",
              "    <tr>\n",
              "      <th>0</th>\n",
              "      <td>1960</td>\n",
              "      <td>37771861</td>\n",
              "    </tr>\n",
              "    <tr>\n",
              "      <th>1</th>\n",
              "      <td>1961</td>\n",
              "      <td>38966049</td>\n",
              "    </tr>\n",
              "    <tr>\n",
              "      <th>2</th>\n",
              "      <td>1962</td>\n",
              "      <td>40195318</td>\n",
              "    </tr>\n",
              "    <tr>\n",
              "      <th>3</th>\n",
              "      <td>1963</td>\n",
              "      <td>41462373</td>\n",
              "    </tr>\n",
              "    <tr>\n",
              "      <th>4</th>\n",
              "      <td>1964</td>\n",
              "      <td>42771077</td>\n",
              "    </tr>\n",
              "  </tbody>\n",
              "</table>\n",
              "</div>"
            ],
            "text/plain": [
              "   Year  Poblacion\n",
              "0  1960   37771861\n",
              "1  1961   38966049\n",
              "2  1962   40195318\n",
              "3  1963   41462373\n",
              "4  1964   42771077"
            ]
          },
          "metadata": {},
          "execution_count": 55
        }
      ]
    },
    {
      "cell_type": "code",
      "metadata": {
        "id": "KyFZtKcJ4alH"
      },
      "source": [
        "x = datos_poblacion.iloc[:, : -1 ].values\n",
        "y = datos_poblacion.iloc[:,1].values"
      ],
      "execution_count": 56,
      "outputs": []
    },
    {
      "cell_type": "code",
      "metadata": {
        "colab": {
          "base_uri": "https://localhost:8080/",
          "height": 276
        },
        "id": "qvlFVtz44prS",
        "outputId": "1ef84028-4fee-4eea-cb4f-3e37dd38dc37"
      },
      "source": [
        "plt.scatter( x, y )\n",
        "plt.show()"
      ],
      "execution_count": 57,
      "outputs": [
        {
          "output_type": "display_data",
          "data": {
            "image/png": "[encoded data removed]",
            "text/plain": [
              "<Figure size 432x288 with 1 Axes>"
            ]
          },
          "metadata": {
            "needs_background": "light"
          }
        }
      ]
    },
    {
      "cell_type": "code",
      "metadata": {
        "colab": {
          "base_uri": "https://localhost:8080/"
        },
        "id": "3Qz87ACr4xvj",
        "outputId": "2e2e35bf-c064-4d48-8764-9fd8fe5840b1"
      },
      "source": [
        "regresor = LinearRegression()\n",
        "regresor.fit( x, y )"
      ],
      "execution_count": 58,
      "outputs": [
        {
          "output_type": "execute_result",
          "data": {
            "text/plain": [
              "LinearRegression(copy_X=True, fit_intercept=True, n_jobs=None, normalize=False)"
            ]
          },
          "metadata": {},
          "execution_count": 58
        }
      ]
    },
    {
      "cell_type": "code",
      "metadata": {
        "colab": {
          "base_uri": "https://localhost:8080/",
          "height": 276
        },
        "id": "D1kD2cXY44yO",
        "outputId": "1a4b9f0b-73e8-4ba2-b05e-d01856646a30"
      },
      "source": [
        "plt.scatter( x, y )\n",
        "plt.plot( x, regresor.predict(x), color = 'r' )\n",
        "plt.show()"
      ],
      "execution_count": 60,
      "outputs": [
        {
          "output_type": "display_data",
          "data": {
            "image/png": "[encoded data removed]",
            "text/plain": [
              "<Figure size 432x288 with 1 Axes>"
            ]
          },
          "metadata": {
            "needs_background": "light"
          }
        }
      ]
    },
    {
      "cell_type": "code",
      "metadata": {
        "colab": {
          "base_uri": "https://localhost:8080/"
        },
        "id": "XyGgz04g5NBg",
        "outputId": "e7af518c-7df7-4699-b2d0-eacd9203ca67"
      },
      "source": [
        "regresor.predict([[2021]]) # 250,000,000"
      ],
      "execution_count": 63,
      "outputs": [
        {
          "output_type": "execute_result",
          "data": {
            "text/plain": [
              "array([1.31222356e+08])"
            ]
          },
          "metadata": {},
          "execution_count": 63
        }
      ]
    }
  ]
}