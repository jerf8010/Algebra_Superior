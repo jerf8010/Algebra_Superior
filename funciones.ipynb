{
  "nbformat": 4,
  "nbformat_minor": 0,
  "metadata": {
    "colab": {
      "name": "Untitled25.ipynb",
      "provenance": []
    },
    "kernelspec": {
      "name": "python3",
      "display_name": "Python 3"
    },
    "language_info": {
      "name": "python"
    }
  },
  "cells": [
    {
      "cell_type": "code",
      "metadata": {
        "id": "17_zwGcKli2r"
      },
      "source": [
        "# Esta función imprime el dato de entrada\n",
        "\n",
        "def f( x ):\n",
        "  print(x)\n",
        "\n",
        "\n"
      ],
      "execution_count": 4,
      "outputs": []
    },
    {
      "cell_type": "code",
      "metadata": {
        "colab": {
          "base_uri": "https://localhost:8080/"
        },
        "id": "xzUZks4CtrTv",
        "outputId": "73831eed-4573-4814-d40c-f158b6376be6"
      },
      "source": [
        "f(4)"
      ],
      "execution_count": 2,
      "outputs": [
        {
          "output_type": "stream",
          "name": "stdout",
          "text": [
            "4\n"
          ]
        }
      ]
    },
    {
      "cell_type": "code",
      "metadata": {
        "id": "wNqOXlmyt9Wy"
      },
      "source": [
        "# Esta función calcula el cuadrado de un número\n",
        "def f(x):\n",
        "  return x ** 2"
      ],
      "execution_count": 5,
      "outputs": []
    },
    {
      "cell_type": "code",
      "metadata": {
        "colab": {
          "base_uri": "https://localhost:8080/"
        },
        "id": "rWIH1rEuuVG1",
        "outputId": "d237d34d-10b1-4da6-f2de-4538fea59110"
      },
      "source": [
        "f(3)"
      ],
      "execution_count": 7,
      "outputs": [
        {
          "output_type": "execute_result",
          "data": {
            "text/plain": [
              "9"
            ]
          },
          "metadata": {},
          "execution_count": 7
        }
      ]
    },
    {
      "cell_type": "code",
      "metadata": {
        "id": "03oiBGDQuimu"
      },
      "source": [
        "# Esta función calcula el cubo de un número\n",
        "def g(y):\n",
        "  return y ** 3"
      ],
      "execution_count": 8,
      "outputs": []
    },
    {
      "cell_type": "code",
      "metadata": {
        "colab": {
          "base_uri": "https://localhost:8080/"
        },
        "id": "QVNTAC8lutzA",
        "outputId": "846df2f3-aaf4-4534-9051-1f16490f670c"
      },
      "source": [
        "g(5)"
      ],
      "execution_count": 9,
      "outputs": [
        {
          "output_type": "execute_result",
          "data": {
            "text/plain": [
              "125"
            ]
          },
          "metadata": {},
          "execution_count": 9
        }
      ]
    },
    {
      "cell_type": "code",
      "metadata": {
        "colab": {
          "base_uri": "https://localhost:8080/"
        },
        "id": "SG3bqxgOu0dm",
        "outputId": "fd89966d-4230-4dfb-cb89-64ba84520eb5"
      },
      "source": [
        "g(f(3))"
      ],
      "execution_count": 10,
      "outputs": [
        {
          "output_type": "execute_result",
          "data": {
            "text/plain": [
              "729"
            ]
          },
          "metadata": {},
          "execution_count": 10
        }
      ]
    },
    {
      "cell_type": "code",
      "metadata": {
        "colab": {
          "base_uri": "https://localhost:8080/"
        },
        "id": "KQtfmw9HvZgQ",
        "outputId": "523da625-3b15-4b4f-bac7-883a22e1caf9"
      },
      "source": [
        "f(g(3))"
      ],
      "execution_count": 11,
      "outputs": [
        {
          "output_type": "execute_result",
          "data": {
            "text/plain": [
              "729"
            ]
          },
          "metadata": {},
          "execution_count": 11
        }
      ]
    },
    {
      "cell_type": "code",
      "metadata": {
        "id": "Ll2jbzdxvrUC"
      },
      "source": [
        "# Esta funcion recibe dos numeros y los suma\n",
        "\n",
        "def h(x, y):\n",
        "  return x + y"
      ],
      "execution_count": 12,
      "outputs": []
    },
    {
      "cell_type": "code",
      "metadata": {
        "id": "TJC9kI5TwZ2h"
      },
      "source": [
        ""
      ],
      "execution_count": 15,
      "outputs": []
    },
    {
      "cell_type": "code",
      "metadata": {
        "colab": {
          "base_uri": "https://localhost:8080/"
        },
        "id": "q2HaMRAxwBOB",
        "outputId": "e5036991-b9ee-4bcf-831c-a0b15adb3e87"
      },
      "source": [
        "h(3,4)"
      ],
      "execution_count": 13,
      "outputs": [
        {
          "output_type": "execute_result",
          "data": {
            "text/plain": [
              "7"
            ]
          },
          "metadata": {},
          "execution_count": 13
        }
      ]
    },
    {
      "cell_type": "code",
      "metadata": {
        "colab": {
          "base_uri": "https://localhost:8080/",
          "height": 37
        },
        "id": "v5Hvxc6zwEH4",
        "outputId": "42f65c68-3aee-42a5-a539-902bf4a09413"
      },
      "source": [
        "h('hola', 'maricruz')"
      ],
      "execution_count": 14,
      "outputs": [
        {
          "output_type": "execute_result",
          "data": {
            "application/vnd.google.colaboratory.intrinsic+json": {
              "type": "string"
            },
            "text/plain": [
              "'holamaricruz'"
            ]
          },
          "metadata": {},
          "execution_count": 14
        }
      ]
    },
    {
      "cell_type": "code",
      "metadata": {
        "id": "EP3ML4__wsY4"
      },
      "source": [
        "def f(x):\n",
        "  if x < 0:\n",
        "    return\n",
        "  else:\n",
        "    return x ** 2"
      ],
      "execution_count": 16,
      "outputs": []
    },
    {
      "cell_type": "code",
      "metadata": {
        "colab": {
          "base_uri": "https://localhost:8080/"
        },
        "id": "UZaTLzVZx4zo",
        "outputId": "bb89cb75-e377-40d9-9e8d-89ecbd32af97"
      },
      "source": [
        "f(3)"
      ],
      "execution_count": 17,
      "outputs": [
        {
          "output_type": "execute_result",
          "data": {
            "text/plain": [
              "9"
            ]
          },
          "metadata": {},
          "execution_count": 17
        }
      ]
    },
    {
      "cell_type": "code",
      "metadata": {
        "id": "y2FUqi9W1yJj"
      },
      "source": [
        "print(f(3))"
      ],
      "execution_count": null,
      "outputs": []
    },
    {
      "cell_type": "code",
      "metadata": {
        "id": "a_cb4ioJx6ur"
      },
      "source": [
        "f(-3)"
      ],
      "execution_count": 18,
      "outputs": []
    },
    {
      "cell_type": "code",
      "metadata": {
        "id": "rg43RGpdyN1D"
      },
      "source": [
        ""
      ],
      "execution_count": null,
      "outputs": []
    },
    {
      "cell_type": "markdown",
      "metadata": {
        "id": "ufJSYpLLyYIH"
      },
      "source": [
        "Gráfica de funciones"
      ]
    },
    {
      "cell_type": "code",
      "metadata": {
        "id": "TD2UXY0vyaq5"
      },
      "source": [
        "def f(x):\n",
        "  return x ** 2"
      ],
      "execution_count": 20,
      "outputs": []
    },
    {
      "cell_type": "code",
      "metadata": {
        "id": "MrMcFdHmygfB"
      },
      "source": [
        "import matplotlib.pyplot as plt"
      ],
      "execution_count": 21,
      "outputs": []
    },
    {
      "cell_type": "code",
      "metadata": {
        "id": "Pr1jlkoxyu2y"
      },
      "source": [
        "ejeX = range(-10, 11) # -10,-9,-8,....,8, 9, 10\n"
      ],
      "execution_count": 25,
      "outputs": []
    },
    {
      "cell_type": "code",
      "metadata": {
        "colab": {
          "base_uri": "https://localhost:8080/"
        },
        "id": "_xY458COzh4R",
        "outputId": "20bee0fa-e9ab-418e-ca5d-9bbb6d57867e"
      },
      "source": [
        "ejeY = []  # Arreglo o Lista:  Conjunto de datos que tienen un órden\n",
        "\n",
        "for i in ejeX:\n",
        "  ejeY.append( f(i) ) # .append() va agregando datos al final del arreglo\n",
        "\n",
        "print(ejeY)"
      ],
      "execution_count": 33,
      "outputs": [
        {
          "output_type": "stream",
          "name": "stdout",
          "text": [
            "[100, 81, 64, 49, 36, 25, 16, 9, 4, 1, 0, 1, 4, 9, 16, 25, 36, 49, 64, 81, 100]\n"
          ]
        }
      ]
    },
    {
      "cell_type": "code",
      "metadata": {
        "id": "1U7dXp1r3x9p"
      },
      "source": [
        ""
      ],
      "execution_count": null,
      "outputs": []
    },
    {
      "cell_type": "code",
      "metadata": {
        "colab": {
          "base_uri": "https://localhost:8080/",
          "height": 295
        },
        "id": "mvkFdROe1V31",
        "outputId": "9447484a-1f16-4eb4-9f40-822ec368f576"
      },
      "source": [
        "plt.plot(ejeX, ejeY)\n",
        "\n",
        "plt.xlabel('Eje Y')\n",
        "plt.ylabel('Eje Y')\n",
        "plt.title('Funcion x^2')\n",
        "\n",
        "plt.grid()\n",
        "\n",
        "# Agregando ejes\n",
        "plt.axhline(0, color= \"black\")\n",
        "plt.axvline(0, color= \"black\")\n",
        "\n",
        "plt.show() # Siempre va, muestra la grafica"
      ],
      "execution_count": 43,
      "outputs": [
        {
          "output_type": "display_data",
          "data": {
            "image/png": "[encoded data removed]",
            "text/plain": [
              "<Figure size 432x288 with 1 Axes>"
            ]
          },
          "metadata": {
            "needs_background": "light"
          }
        }
      ]
    },
    {
      "cell_type": "code",
      "metadata": {
        "id": "ZDZEV56k0oOm"
      },
      "source": [
        "# Funcion valor absoluto\n",
        "def h(x):\n",
        "  if x >= 0:\n",
        "    return x\n",
        "  else:\n",
        "    return -x\n",
        "\n"
      ],
      "execution_count": 44,
      "outputs": []
    },
    {
      "cell_type": "code",
      "metadata": {
        "colab": {
          "base_uri": "https://localhost:8080/"
        },
        "id": "C1vZU9gj3Ygf",
        "outputId": "56c6c409-eff9-4aa8-9957-eaa9385d6455"
      },
      "source": [
        "h(4)"
      ],
      "execution_count": 45,
      "outputs": [
        {
          "output_type": "execute_result",
          "data": {
            "text/plain": [
              "4"
            ]
          },
          "metadata": {},
          "execution_count": 45
        }
      ]
    },
    {
      "cell_type": "code",
      "metadata": {
        "colab": {
          "base_uri": "https://localhost:8080/"
        },
        "id": "uvwyQr_D3cNe",
        "outputId": "bb27eb22-89e4-4e33-ece8-a7827976a1f3"
      },
      "source": [
        "h(-4)"
      ],
      "execution_count": 46,
      "outputs": [
        {
          "output_type": "execute_result",
          "data": {
            "text/plain": [
              "4"
            ]
          },
          "metadata": {},
          "execution_count": 46
        }
      ]
    },
    {
      "cell_type": "code",
      "metadata": {
        "id": "MhSAgJvA3gJ0"
      },
      "source": [
        "ejeX = range(-10, 11)"
      ],
      "execution_count": 47,
      "outputs": []
    },
    {
      "cell_type": "code",
      "metadata": {
        "colab": {
          "base_uri": "https://localhost:8080/"
        },
        "id": "wgWuDdtZ3zjL",
        "outputId": "79840c22-3887-4e31-95a9-63fcdd6e4323"
      },
      "source": [
        "ejeY = [h(x) for x in ejeX]\n",
        "ejeY"
      ],
      "execution_count": 51,
      "outputs": [
        {
          "output_type": "execute_result",
          "data": {
            "text/plain": [
              "[10, 9, 8, 7, 6, 5, 4, 3, 2, 1, 0, 1, 2, 3, 4, 5, 6, 7, 8, 9, 10]"
            ]
          },
          "metadata": {},
          "execution_count": 51
        }
      ]
    },
    {
      "cell_type": "code",
      "metadata": {
        "colab": {
          "base_uri": "https://localhost:8080/",
          "height": 295
        },
        "id": "ts-7_Dka4T1D",
        "outputId": "348e3500-60a9-4d01-f217-44a24ee73d9e"
      },
      "source": [
        "plt.plot(ejeX, ejeY)\n",
        "plt.xlabel('Eje X')\n",
        "plt.ylabel('Eje Y')\n",
        "plt.title('Valor absoluto')\n",
        "plt.grid()\n",
        "plt.show()"
      ],
      "execution_count": 55,
      "outputs": [
        {
          "output_type": "display_data",
          "data": {
            "image/png": "[encoded data removed]",
            "text/plain": [
              "<Figure size 432x288 with 1 Axes>"
            ]
          },
          "metadata": {
            "needs_background": "light"
          }
        }
      ]
    }
  ]
}