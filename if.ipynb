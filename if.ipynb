{
  "nbformat": 4,
  "nbformat_minor": 0,
  "metadata": {
    "colab": {
      "name": "Untitled15.ipynb",
      "provenance": [],
      "collapsed_sections": []
    },
    "kernelspec": {
      "name": "python3",
      "display_name": "Python 3"
    },
    "language_info": {
      "name": "python"
    }
  },
  "cells": [
    {
      "cell_type": "code",
      "metadata": {
        "id": "DRWkGwQXDk70"
      },
      "source": [
        "x = 2\n",
        "y = 3.0\n",
        "z = 'Hola '\n",
        "p = True"
      ],
      "execution_count": 3,
      "outputs": []
    },
    {
      "cell_type": "code",
      "metadata": {
        "colab": {
          "base_uri": "https://localhost:8080/"
        },
        "id": "y5VP6472OM4p",
        "outputId": "49128294-da58-4e33-804b-5c0846acca7b"
      },
      "source": [
        "r = 'Adios'\n",
        "print(z + r)"
      ],
      "execution_count": 7,
      "outputs": [
        {
          "output_type": "stream",
          "text": [
            "Hola Adios\n"
          ],
          "name": "stdout"
        }
      ]
    },
    {
      "cell_type": "code",
      "metadata": {
        "colab": {
          "base_uri": "https://localhost:8080/"
        },
        "id": "7lxbxm_AOcXN",
        "outputId": "3acd30cf-e1df-48bc-bc7e-7e6cd4c60cba"
      },
      "source": [
        "nombre = input('Ingrese tu nombre: ')"
      ],
      "execution_count": 15,
      "outputs": [
        {
          "output_type": "stream",
          "text": [
            "Ingrese tu nombre: emanuel$\n"
          ],
          "name": "stdout"
        }
      ]
    },
    {
      "cell_type": "markdown",
      "metadata": {
        "id": "uYE-Of57Pr0G"
      },
      "source": [
        "Métodos para string\n"
      ]
    },
    {
      "cell_type": "code",
      "metadata": {
        "colab": {
          "base_uri": "https://localhost:8080/",
          "height": 35
        },
        "id": "qkq7qr8TPFtc",
        "outputId": "383f3b3a-8634-4016-ba4b-1f0c63e177c5"
      },
      "source": [
        "nombre[7]"
      ],
      "execution_count": 16,
      "outputs": [
        {
          "output_type": "execute_result",
          "data": {
            "application/vnd.google.colaboratory.intrinsic+json": {
              "type": "string"
            },
            "text/plain": [
              "'$'"
            ]
          },
          "metadata": {},
          "execution_count": 16
        }
      ]
    },
    {
      "cell_type": "code",
      "metadata": {
        "colab": {
          "base_uri": "https://localhost:8080/"
        },
        "id": "xfKwqmKsQXg6",
        "outputId": "4c873333-e347-44d6-b8e6-d4f10492a6a6"
      },
      "source": [
        "len(nombre)"
      ],
      "execution_count": 22,
      "outputs": [
        {
          "output_type": "execute_result",
          "data": {
            "text/plain": [
              "8"
            ]
          },
          "metadata": {},
          "execution_count": 22
        }
      ]
    },
    {
      "cell_type": "code",
      "metadata": {
        "colab": {
          "base_uri": "https://localhost:8080/",
          "height": 35
        },
        "id": "rU1L09YYR2sA",
        "outputId": "715a31b8-9be1-4adf-ee4a-e6ac03202648"
      },
      "source": [
        "nombre.upper()"
      ],
      "execution_count": 23,
      "outputs": [
        {
          "output_type": "execute_result",
          "data": {
            "application/vnd.google.colaboratory.intrinsic+json": {
              "type": "string"
            },
            "text/plain": [
              "'EMANUEL$'"
            ]
          },
          "metadata": {},
          "execution_count": 23
        }
      ]
    },
    {
      "cell_type": "code",
      "metadata": {
        "colab": {
          "base_uri": "https://localhost:8080/",
          "height": 35
        },
        "id": "4wmzE0j2SDg6",
        "outputId": "bde81098-f372-478b-95be-473dcd41ed9f"
      },
      "source": [
        "nombre.lower()"
      ],
      "execution_count": 24,
      "outputs": [
        {
          "output_type": "execute_result",
          "data": {
            "application/vnd.google.colaboratory.intrinsic+json": {
              "type": "string"
            },
            "text/plain": [
              "'emanuel$'"
            ]
          },
          "metadata": {},
          "execution_count": 24
        }
      ]
    },
    {
      "cell_type": "code",
      "metadata": {
        "id": "G-7rMbbhSKu_"
      },
      "source": [
        "nombre = nombre.replace('$', '')"
      ],
      "execution_count": 27,
      "outputs": []
    },
    {
      "cell_type": "code",
      "metadata": {
        "colab": {
          "base_uri": "https://localhost:8080/",
          "height": 35
        },
        "id": "WVE7RFVSSXDO",
        "outputId": "83273054-2d11-4031-a1a5-d949bb43b31a"
      },
      "source": [
        "nombre.replace('e', '%')"
      ],
      "execution_count": 28,
      "outputs": [
        {
          "output_type": "execute_result",
          "data": {
            "application/vnd.google.colaboratory.intrinsic+json": {
              "type": "string"
            },
            "text/plain": [
              "'%manu%l'"
            ]
          },
          "metadata": {},
          "execution_count": 28
        }
      ]
    },
    {
      "cell_type": "code",
      "metadata": {
        "colab": {
          "base_uri": "https://localhost:8080/"
        },
        "id": "vY1uWYTOSqK_",
        "outputId": "bec1c98e-439c-4c9f-c12f-870b045094d4"
      },
      "source": [
        "frase = 'Susanita tiene un raton'\n",
        "frase.split(' ')"
      ],
      "execution_count": 31,
      "outputs": [
        {
          "output_type": "execute_result",
          "data": {
            "text/plain": [
              "['Susanita', 'tiene', 'un', 'raton']"
            ]
          },
          "metadata": {},
          "execution_count": 31
        }
      ]
    },
    {
      "cell_type": "code",
      "metadata": {
        "id": "ZZfZuSjPTLMh"
      },
      "source": [
        ""
      ],
      "execution_count": null,
      "outputs": []
    },
    {
      "cell_type": "markdown",
      "metadata": {
        "id": "_lL6I1HwTSdq"
      },
      "source": [
        "Operaciones en booleanos"
      ]
    },
    {
      "cell_type": "code",
      "metadata": {
        "id": "-Y8_RjATTVsi"
      },
      "source": [
        "p = True\n",
        "q = False"
      ],
      "execution_count": 33,
      "outputs": []
    },
    {
      "cell_type": "code",
      "metadata": {
        "colab": {
          "base_uri": "https://localhost:8080/"
        },
        "id": "JGW6UJUSTaiW",
        "outputId": "d2a22c3a-dfb3-427b-bbec-2426d3198ba0"
      },
      "source": [
        "p and q"
      ],
      "execution_count": 34,
      "outputs": [
        {
          "output_type": "execute_result",
          "data": {
            "text/plain": [
              "False"
            ]
          },
          "metadata": {},
          "execution_count": 34
        }
      ]
    },
    {
      "cell_type": "code",
      "metadata": {
        "colab": {
          "base_uri": "https://localhost:8080/"
        },
        "id": "_aESysS3Tpjs",
        "outputId": "3a5c5f91-5f89-4e27-c33b-e40099419325"
      },
      "source": [
        "p or q"
      ],
      "execution_count": 35,
      "outputs": [
        {
          "output_type": "execute_result",
          "data": {
            "text/plain": [
              "True"
            ]
          },
          "metadata": {},
          "execution_count": 35
        }
      ]
    },
    {
      "cell_type": "code",
      "metadata": {
        "colab": {
          "base_uri": "https://localhost:8080/"
        },
        "id": "LePj3JMTTyFm",
        "outputId": "8d19bda5-42f3-4301-85df-714a716752be"
      },
      "source": [
        "not p"
      ],
      "execution_count": 36,
      "outputs": [
        {
          "output_type": "execute_result",
          "data": {
            "text/plain": [
              "False"
            ]
          },
          "metadata": {},
          "execution_count": 36
        }
      ]
    },
    {
      "cell_type": "code",
      "metadata": {
        "colab": {
          "base_uri": "https://localhost:8080/"
        },
        "id": "7sy0J7VfT6i4",
        "outputId": "1d96fc65-b425-49ba-9a2f-4d75aec53ebc"
      },
      "source": [
        "3 == 4"
      ],
      "execution_count": 37,
      "outputs": [
        {
          "output_type": "execute_result",
          "data": {
            "text/plain": [
              "False"
            ]
          },
          "metadata": {},
          "execution_count": 37
        }
      ]
    },
    {
      "cell_type": "code",
      "metadata": {
        "colab": {
          "base_uri": "https://localhost:8080/"
        },
        "id": "fDqNtVPTUCQ0",
        "outputId": "ecd3688d-913d-4d81-c746-24e065c873b5"
      },
      "source": [
        "4 == 4"
      ],
      "execution_count": 38,
      "outputs": [
        {
          "output_type": "execute_result",
          "data": {
            "text/plain": [
              "True"
            ]
          },
          "metadata": {},
          "execution_count": 38
        }
      ]
    },
    {
      "cell_type": "code",
      "metadata": {
        "colab": {
          "base_uri": "https://localhost:8080/"
        },
        "id": "tE0RxA1XUK4j",
        "outputId": "800f9206-a06b-42c1-995a-1637a813f6a4"
      },
      "source": [
        "3 != 4 "
      ],
      "execution_count": 40,
      "outputs": [
        {
          "output_type": "execute_result",
          "data": {
            "text/plain": [
              "True"
            ]
          },
          "metadata": {},
          "execution_count": 40
        }
      ]
    },
    {
      "cell_type": "code",
      "metadata": {
        "colab": {
          "base_uri": "https://localhost:8080/"
        },
        "id": "GtJzNVkeUWcO",
        "outputId": "99e213d5-e230-4e85-ae03-c4cbeb196dc7"
      },
      "source": [
        "4 != 4"
      ],
      "execution_count": 41,
      "outputs": [
        {
          "output_type": "execute_result",
          "data": {
            "text/plain": [
              "False"
            ]
          },
          "metadata": {},
          "execution_count": 41
        }
      ]
    },
    {
      "cell_type": "code",
      "metadata": {
        "colab": {
          "base_uri": "https://localhost:8080/"
        },
        "id": "WllIKtk5Ubte",
        "outputId": "9ce20e47-9e67-443c-faad-84ab14364a80"
      },
      "source": [
        "edad = float( input('Introduzca la edad: ') )"
      ],
      "execution_count": 57,
      "outputs": [
        {
          "output_type": "stream",
          "text": [
            "Introduzca la edad: 3\n"
          ],
          "name": "stdout"
        }
      ]
    },
    {
      "cell_type": "markdown",
      "metadata": {
        "id": "BpfD0O8NZuQ1"
      },
      "source": [
        "Esta es la instrucción para guardarlo como entero, supongo que se me fue un espacio como lo comentaban."
      ]
    },
    {
      "cell_type": "code",
      "metadata": {
        "colab": {
          "base_uri": "https://localhost:8080/"
        },
        "id": "Nw3860oEZY5n",
        "outputId": "87a4bf5b-4ecd-4359-868d-ba3e39620f6a"
      },
      "source": [
        "edad = int( input( 'Introduzca la edad: '))"
      ],
      "execution_count": 58,
      "outputs": [
        {
          "output_type": "stream",
          "text": [
            "Introduzca la edad: 30\n"
          ],
          "name": "stdout"
        }
      ]
    },
    {
      "cell_type": "code",
      "metadata": {
        "colab": {
          "base_uri": "https://localhost:8080/"
        },
        "id": "3KOsqgsyVRIz",
        "outputId": "2fd67430-7c4b-4bc1-f746-4b00a4857f15"
      },
      "source": [
        "if( edad >= 18 and edad <= 30 ):\n",
        "  print(\"Puedes ingresar al stop\")\n",
        "elif( edad > 30 ):\n",
        "  print(\"Estas en los años dorados de tu vida\")\n",
        "else:\n",
        "  print( \"Tu no puedes ingresar\")\n"
      ],
      "execution_count": 56,
      "outputs": [
        {
          "output_type": "stream",
          "text": [
            "Puedes ingresar al stop\n"
          ],
          "name": "stdout"
        }
      ]
    }
  ]
}